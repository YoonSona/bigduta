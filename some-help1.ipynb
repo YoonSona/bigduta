{
 "cells": [
  {
   "cell_type": "code",
   "execution_count": null,
   "id": "406284cf",
   "metadata": {},
   "outputs": [],
   "source": [
    "#импортирование библиотек\n",
    "import numpy as np\n",
    "import matploltlib.pyplot as plt\n",
    "import seaborn as sns\n",
    "import pandas as pd\n",
    "%matplotlib inline"
   ]
  },
  {
   "cell_type": "code",
   "execution_count": null,
   "id": "afa74d73",
   "metadata": {},
   "outputs": [],
   "source": [
    "#1.1. загрузка данных \n",
    "df = pd.read_excel('path.xlsx')\n",
    "df = pd.read_json('path.json')"
   ]
  },
  {
   "cell_type": "code",
   "execution_count": null,
   "id": "c2095aed",
   "metadata": {},
   "outputs": [],
   "source": [
    "#объединение дата фреймов\n",
    "#https://pandas.pydata.org/pandas-docs/stable/reference/api/pandas.DataFrame.drop_duplicates.html/df.drop('dropoff_datetime', axis=1, inplace=True) - дублирующиеся столбцы\n",
    "#можно юзать всё вместе\n",
    "df = pd.concat([df1, df2])\n",
    "df = pd.drop__duplicates('column_name')\n",
    "df = pd.drop('column_name', axis=1)"
   ]
  },
  {
   "cell_type": "code",
   "execution_count": null,
   "id": "4ecb2f85",
   "metadata": {},
   "outputs": [],
   "source": [
    "#приведение типов\n",
    "#https://qastack.ru/programming/15891038/change-data-type-of-columns-in-pandas\n",
    "df['column_name']=pd.to_datetime(df['column_name'])"
   ]
  },
  {
   "cell_type": "code",
   "execution_count": null,
   "id": "d165a5b4",
   "metadata": {},
   "outputs": [],
   "source": [
    "#узнаем кол-во NaN-ов\n",
    "df.isna().sum()\n",
    "#выбросы и всякая штука\n",
    "df.describe()\n",
    "\n",
    "#перевод секунд в минуты, и после перевода опять сделать describe()\n",
    "df.trip_duration = df.trip_duration.apply(lambda x: x/60)\n",
    "\n",
    "#для более лучшего просмотра выбросов использовать boxplot\n",
    "sns.boxplot(df['column_name'])\n",
    "#очистка выбросов происходит за счёт подбора подходящих значения на boxplot\n",
    "qunt = df['column_name'].quantile(0.9248)\n",
    "df = df[df['column_name'] < qunt]\n",
    "sns.boxplot(df['column_name'], palette = 'Blues_r')\n",
    "plt.show()"
   ]
  },
  {
   "cell_type": "code",
   "execution_count": null,
   "id": "0d7c8649",
   "metadata": {},
   "outputs": [],
   "source": [
    "# 1.2. df = pd.read_csv('name.csv'). \n",
    "name.info()\n",
    "#просмотр данных, хранящихся в столбцах\n",
    "for col in ['column_name', 'column_name', 'column_name']:\n",
    "    print(weather[col].unique())\n",
    "    print('-' * 10)"
   ]
  },
  {
   "cell_type": "code",
   "execution_count": null,
   "id": "2840b44e",
   "metadata": {},
   "outputs": [],
   "source": [
    "#замена неверных значений на \"0\" и конвертирование в другой тип данных\n",
    "for col in ['precipitation', 'snow fall', 'snow depth']:\n",
    "    weather.loc[weather[col] == 'T', col] = 0\n",
    "    weather[col] = weather[col].astype(np.float64)"
   ]
  },
  {
   "cell_type": "code",
   "execution_count": null,
   "id": "aeb7d715",
   "metadata": {},
   "outputs": [],
   "source": [
    "#просмотр выбросов\n",
    "weather.describe()\n",
    "#конвертирование из F в C\n",
    "for temp in ['maximum temperature', 'minimum temperature','average temperature']:\n",
    "    weather[temp] = weather[temp].apply(lambda x: (x-32)/1.8)"
   ]
  },
  {
   "cell_type": "code",
   "execution_count": null,
   "id": "db3dcf4d",
   "metadata": {},
   "outputs": [],
   "source": [
    "#Объединение поездок и погоды\n",
    "#у нас в данных о поездках нету столбца date, мы добавим его временно, данные о годе, месяце и т.д. \n",
    "#возьмем из даты посадки. После объединения удалим столбец date и столбец с датой высадки\n",
    "df['d'] = df['p.up_d.t.'].apply(lambda x: str(x.day) + '-' + str(x.month) + '-' + str(x.year))\n",
    "df = df.merge(weather, on='d').drop(['d'], axis=1)"
   ]
  },
  {
   "cell_type": "code",
   "execution_count": null,
   "id": "c03e9668",
   "metadata": {},
   "outputs": [],
   "source": [
    "#добавление признаков кароче эту штуку надо сделать на каждый property\n",
    "df['date_property(year\\month\\day\\hour\\minute)'] = df['dropoff_datetime'].apply(lambda x: x.year)\n",
    "#dropoff_datetime можно удалить"
   ]
  },
  {
   "cell_type": "code",
   "execution_count": null,
   "id": "6f4e000f",
   "metadata": {},
   "outputs": [],
   "source": [
    "#создание нового столбца для задания \n",
    "df['new_column']=df['old_column']\n",
    "df.info()"
   ]
  },
  {
   "cell_type": "code",
   "execution_count": null,
   "id": "820c6b2e",
   "metadata": {},
   "outputs": [],
   "source": [
    "# что такое квартиль? картинку чекни\n",
    "# здесь короче у нас есть хрень с 0.25, потом нужно скопировать строку и написать 0.5, потом 0.75\n",
    "# q2=df.category_travel_time.quantile(0.5) \n",
    "q1=df.category_travel_time.quantile(0.25)\n",
    "\n",
    "# для q1 и q4 просто <= 0.25 и >= 0.75. То есть вот & юзать не надо\n",
    "df.category_travel_time=np.where(((df.category_travel_time<q2)&(df.category_travel_time>q1)),2,df.category_travel_time)\n",
    "# old_column можно удалить по причине его ненужности"
   ]
  },
  {
   "cell_type": "code",
   "execution_count": null,
   "id": "56e7fdcc",
   "metadata": {},
   "outputs": [],
   "source": [
    "#1.3 узнаем кол-во NaN-ов, плотность\n",
    "new_csv.isna().sum()\n",
    "df.info()\n",
    "#для расшифровки и назначения чекни скрин"
   ]
  },
  {
   "cell_type": "code",
   "execution_count": null,
   "id": "3f9820c2",
   "metadata": {},
   "outputs": [],
   "source": [
    "#1.4 выбросы и всякая штука\n",
    "df.describe()\n",
    "\n",
    "#перевод секунд в минуты, и после перевода опять сделать describe()\n",
    "df.trip_duration = df.trip_duration.apply(lambda x: x/60)\n",
    "\n",
    "#для более лучшего просмотра выбросов использовать boxplot\n",
    "sns.boxplot(df['column_name'])"
   ]
  },
  {
   "cell_type": "code",
   "execution_count": null,
   "id": "2d274250",
   "metadata": {},
   "outputs": [],
   "source": [
    "#очистка выбросов происходит за счёт подбора подходящих значения на boxplot\n",
    "qunt = df['column_name'].quantile(0.9248)\n",
    "df = df[df['column_name'] < qunt]\n",
    "sns.boxplot(df['column_name'], palette = 'Blues_r')\n",
    "plt.show()"
   ]
  },
  {
   "cell_type": "code",
   "execution_count": null,
   "id": "cf39436e",
   "metadata": {},
   "outputs": [],
   "source": [
    "#1.5 сохраняет в директорию, где лежит Report_C1.ipynb\n",
    "df.to_csv('C1_result.csv', index=False)\n",
    "#Вывод: во время первой сессии были сделаны следующие вещи:\n",
    "#1.обработаны пропуски во всех данных\n",
    "#2.обработаны выбросы во всех данных\n",
    "#3.данные приведены к приемлимому виду(отформатированы)\n",
    "#4.объединены данные о всех поездках и о погоде в эти дни в один датасет и сохранены с расширением .csv"
   ]
  }
 ],
 "metadata": {
  "kernelspec": {
   "display_name": "Python 3 (ipykernel)",
   "language": "python",
   "name": "python3"
  },
  "language_info": {
   "codemirror_mode": {
    "name": "ipython",
    "version": 3
   },
   "file_extension": ".py",
   "mimetype": "text/x-python",
   "name": "python",
   "nbconvert_exporter": "python",
   "pygments_lexer": "ipython3",
   "version": "3.9.12"
  }
 },
 "nbformat": 4,
 "nbformat_minor": 5
}
